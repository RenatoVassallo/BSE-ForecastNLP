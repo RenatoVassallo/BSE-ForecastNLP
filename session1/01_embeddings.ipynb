{
 "cells": [
  {
   "cell_type": "markdown",
   "id": "61a416b6",
   "metadata": {},
   "source": [
    "# Embeddings and LLMs\n",
    "\n",
    "+ Embeddings are dense vector representations of text, capturing semantic information. \n",
    "+ Similar texts have similar embeddings, allowing for tasks like clustering and similarity search."
   ]
  },
  {
   "cell_type": "code",
   "execution_count": 1,
   "id": "54f8b712",
   "metadata": {},
   "outputs": [
    {
     "name": "stdout",
     "output_type": "stream",
     "text": [
      "Embedding dimension (BERT base):  768\n"
     ]
    }
   ],
   "source": [
    "from transformers import AutoTokenizer, AutoModel\n",
    "import torch\n",
    "\n",
    "tok = AutoTokenizer.from_pretrained(\"bert-base-uncased\")\n",
    "model = AutoModel.from_pretrained(\"bert-base-uncased\")\n",
    "\n",
    "emb1 = model(**tok(\"Cats are cute\", return_tensors=\"pt\")).last_hidden_state[0, 0]\n",
    "print(\"Embedding dimension (BERT base): \", len(emb1))"
   ]
  },
  {
   "cell_type": "markdown",
   "id": "0bc698e0",
   "metadata": {},
   "source": [
    "+ The [0, 0] indexing in your code extracts the first token of the first sentence in the batch, which is the $\\texttt{[CLS]}$ token.\n",
    "+ The $\\texttt{[CLS]}$ token is a special token added at the beginning of every input sentence in BERT.\n",
    "+ The corresponding hidden state for this token is considered to capture the overall semantic representation of the entire input sentence."
   ]
  },
  {
   "cell_type": "code",
   "execution_count": 2,
   "id": "fa7498aa",
   "metadata": {},
   "outputs": [
    {
     "name": "stdout",
     "output_type": "stream",
     "text": [
      "Cosine similarity of generic embeddings:  0.9672764539718628\n"
     ]
    }
   ],
   "source": [
    "emb2 = model(**tok(\"Dogs are loyal\", return_tensors=\"pt\")).last_hidden_state[0, 0]\n",
    "print(\"Cosine similarity of generic embeddings: \", torch.cosine_similarity(emb1, emb2, dim=0).item())"
   ]
  },
  {
   "cell_type": "markdown",
   "id": "97bf5bf0",
   "metadata": {},
   "source": [
    "## Training a Simple Language Model\n",
    "\n",
    "1. **Dataset:** 6 text samples, each labeled with a 3D vector (e.g., `[1, 0, 0]` for ML, `[0, 1, 0]` for animals, etc.).  \n",
    "2. **Tokenization:** Text is tokenized using DistilBERT, generating `input_ids` and `attention_mask`.  \n",
    "3. **Model Architecture:** DistilBERT + Linear Layer (768 → 3) projects CLS token to 3D label space.  \n",
    "4. **Loss Function:** MSE Loss measures the difference between predicted embeddings and target vectors.  \n",
    "5. **Training Loop:** Forward pass extracts CLS embedding, applies linear layer, computes loss, and backpropagates.  "
   ]
  },
  {
   "cell_type": "code",
   "execution_count": 3,
   "id": "13752c9e",
   "metadata": {},
   "outputs": [
    {
     "name": "stderr",
     "output_type": "stream",
     "text": [
      "/omega/FewShotX/.venv/lib/python3.11/site-packages/torch/utils/data/dataloader.py:665: UserWarning: 'pin_memory' argument is set as true but no accelerator is found, then device pinned memory won't be used.\n",
      "  warnings.warn(warn_msg)\n"
     ]
    },
    {
     "data": {
      "text/html": [
       "\n",
       "    <div>\n",
       "      \n",
       "      <progress value='9' max='9' style='width:300px; height:20px; vertical-align: middle;'></progress>\n",
       "      [9/9 00:02, Epoch 3/3]\n",
       "    </div>\n",
       "    <table border=\"1\" class=\"dataframe\">\n",
       "  <thead>\n",
       " <tr style=\"text-align: left;\">\n",
       "      <th>Step</th>\n",
       "      <th>Training Loss</th>\n",
       "    </tr>\n",
       "  </thead>\n",
       "  <tbody>\n",
       "  </tbody>\n",
       "</table><p>"
      ],
      "text/plain": [
       "<IPython.core.display.HTML object>"
      ]
     },
     "metadata": {},
     "output_type": "display_data"
    },
    {
     "data": {
      "text/plain": [
       "TrainOutput(global_step=9, training_loss=0.16863920953538683, metrics={'train_runtime': 2.909, 'train_samples_per_second': 6.188, 'train_steps_per_second': 3.094, 'total_flos': 0.0, 'train_loss': 0.16863920953538683, 'epoch': 3.0})"
      ]
     },
     "execution_count": 3,
     "metadata": {},
     "output_type": "execute_result"
    }
   ],
   "source": [
    "import torch\n",
    "from transformers import AutoTokenizer, AutoModel, Trainer, TrainingArguments\n",
    "from torch.utils.data import Dataset\n",
    "\n",
    "# --- Toy Dataset ---\n",
    "class ToyDataset(Dataset):\n",
    "    def __init__(self):\n",
    "        self.samples = [\n",
    "            (\"I love machine learning\", [1, 0, 0]),\n",
    "            (\"I enjoy deep learning\", [1, 0, 0]),\n",
    "            (\"Cats are cute\", [0, 1, 0]),\n",
    "            (\"Dogs are loyal\", [0, 1, 0]),\n",
    "            (\"Python is great for programming\", [0, 0, 1]),\n",
    "            (\"I code in Python\", [0, 0, 1])\n",
    "        ]\n",
    "        self.tokenizer = AutoTokenizer.from_pretrained(\"distilbert-base-uncased\")\n",
    "\n",
    "    def __len__(self):\n",
    "        return len(self.samples)\n",
    "\n",
    "    def __getitem__(self, idx):\n",
    "        text, label = self.samples[idx]\n",
    "        inputs = self.tokenizer(text, padding=\"max_length\", truncation=True, max_length=16, return_tensors=\"pt\")\n",
    "        return {\"input_ids\": inputs[\"input_ids\"].squeeze(), \"attention_mask\": inputs[\"attention_mask\"].squeeze(), \"labels\": torch.tensor(label)}\n",
    "\n",
    "# --- Model Definition ---\n",
    "class SimpleEmbedder(torch.nn.Module):\n",
    "    def __init__(self):\n",
    "        super(SimpleEmbedder, self).__init__()\n",
    "        self.model = AutoModel.from_pretrained(\"distilbert-base-uncased\")\n",
    "        self.embedding_layer = torch.nn.Linear(768, 3)\n",
    "        self.loss_fn = torch.nn.MSELoss()\n",
    "\n",
    "    def forward(self, input_ids, attention_mask, labels=None):\n",
    "        outputs = self.model(input_ids=input_ids, attention_mask=attention_mask)\n",
    "        cls_output = outputs.last_hidden_state[:, 0, :]\n",
    "        embeddings = self.embedding_layer(cls_output)\n",
    "\n",
    "        if labels is not None:\n",
    "            loss = self.loss_fn(embeddings, labels.float())\n",
    "            return {'loss': loss, 'embeddings': embeddings}\n",
    "        return {'embeddings': embeddings}\n",
    "\n",
    "\n",
    "# --- Training ---\n",
    "dataset = ToyDataset()\n",
    "train_args = TrainingArguments(\n",
    "    output_dir=\"./embeddings_model\",\n",
    "    per_device_train_batch_size=2,\n",
    "    num_train_epochs=3,\n",
    "    logging_dir=\"./logs\"\n",
    ")\n",
    "\n",
    "model = SimpleEmbedder()\n",
    "trainer = Trainer(\n",
    "    model=model,\n",
    "    args=train_args,\n",
    "    train_dataset=dataset\n",
    ")\n",
    "\n",
    "trainer.train()"
   ]
  },
  {
   "cell_type": "code",
   "execution_count": 4,
   "id": "c49e52e7",
   "metadata": {},
   "outputs": [
    {
     "name": "stdout",
     "output_type": "stream",
     "text": [
      "Embedding for sample text: [[0.6994633  0.03243814 0.20225406]]\n"
     ]
    }
   ],
   "source": [
    "# --- Generating Embeddings ---\n",
    "model.eval()\n",
    "sample_text = \"I love coding\"\n",
    "tokenizer = dataset.tokenizer\n",
    "inputs = tokenizer(sample_text, return_tensors=\"pt\")\n",
    "with torch.no_grad():\n",
    "    embedding = model(**inputs)\n",
    "\n",
    "print(\"Embedding for sample text:\", embedding[\"embeddings\"].numpy())"
   ]
  }
 ],
 "metadata": {
  "kernelspec": {
   "display_name": ".venv",
   "language": "python",
   "name": "python3"
  },
  "language_info": {
   "codemirror_mode": {
    "name": "ipython",
    "version": 3
   },
   "file_extension": ".py",
   "mimetype": "text/x-python",
   "name": "python",
   "nbconvert_exporter": "python",
   "pygments_lexer": "ipython3",
   "version": "3.11.11"
  }
 },
 "nbformat": 4,
 "nbformat_minor": 5
}
