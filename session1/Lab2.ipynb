{
 "cells": [
  {
   "cell_type": "markdown",
   "id": "7b6c6648",
   "metadata": {},
   "source": [
    "# Lab 2: AG News\n",
    "\n",
    "- **Type:** Text Classification Dataset  \n",
    "- **Content:** News articles categorized into four classes: World, Sports, Business, Sci/Tech.  \n",
    "- **Size:** 120,000 training samples, 7,600 test samples.  \n",
    "- **Source:** News articles from more than 2,000 news sources.  \n",
    "- **Task:** Classify news articles based on topic/category. \n",
    "\n",
    "This notebook demonstrates the use of the `FewShotX` package (version 0.1.2), available for download [here](https://github.com/RenatoVassallo/BSE-ForecastNLP/releases/download/0.1.2/fewshotx-0.1.2-py3-none-any.whl)."
   ]
  },
  {
   "cell_type": "code",
   "execution_count": null,
   "id": "daf31635",
   "metadata": {},
   "outputs": [],
   "source": [
    "import pandas as pd\n",
    "\n",
    "# Load the Parquet file\n",
    "df = pd.read_parquet('datasets/agnews2k.parquet')\n",
    "print(df[\"label\"].value_counts())\n",
    "df"
   ]
  },
  {
   "cell_type": "code",
   "execution_count": null,
   "id": "d1066d44",
   "metadata": {},
   "outputs": [],
   "source": [
    "def split_support_query(df, support_pct, random_state=42):\n",
    "    \"\"\"\n",
    "    Split the dataset into support and query sets based on a percentage.\n",
    "    \"\"\"\n",
    "    # Ensure percentage is within the valid range\n",
    "    if not (0 < support_pct < 1):\n",
    "        raise ValueError(\"support_pct must be a float between 0 and 1.\")\n",
    "    \n",
    "    # Split the dataset\n",
    "    support_set = df.sample(frac=support_pct, random_state=random_state)\n",
    "    query_set = df.drop(support_set.index)\n",
    "\n",
    "    return support_set, query_set"
   ]
  },
  {
   "cell_type": "code",
   "execution_count": null,
   "id": "38281c59",
   "metadata": {},
   "outputs": [],
   "source": [
    "support_set, query_set = split_support_query(df, support_pct=0.25, random_state=42)\n",
    "\n",
    "print(f\"Support Set: ({len(support_set)} rows):\")\n",
    "print(support_set.head())\n",
    "\n",
    "print(f\"\\nQuery Set: ({len(query_set)} rows):\")\n",
    "print(query_set.head())"
   ]
  },
  {
   "cell_type": "code",
   "execution_count": null,
   "id": "8b8bb169",
   "metadata": {},
   "outputs": [],
   "source": [
    "from FewShotX import Embeddings, FewShotLearner\n",
    "\n",
    "# Initialize Embedder\n",
    "embed_model = Embeddings(model_name='all-MiniLM-L6-v2', verbose=False)\n",
    "\n",
    "# Initialize the FewShotLearner\n",
    "few_shot_learner = FewShotLearner(\n",
    "    support_set=support_set.copy(),\n",
    "    text_col=\"text\",\n",
    "    label_col=\"label\",\n",
    "    embedding_model=embed_model\n",
    ")"
   ]
  },
  {
   "cell_type": "code",
   "execution_count": null,
   "id": "8218ace6",
   "metadata": {},
   "outputs": [],
   "source": [
    "# Train the model using the support set\n",
    "few_shot_learner.fit(lam=0.1, lr=0.05, epochs=50, early_stop=10, verbose=True)"
   ]
  },
  {
   "cell_type": "code",
   "execution_count": null,
   "id": "c75766eb",
   "metadata": {},
   "outputs": [],
   "source": [
    "# Make predictions on the query set\n",
    "df_pred, acc = few_shot_learner.predict(query_set.copy(), return_accuracy=True)\n",
    "print(\"Accuracy: \", acc)\n",
    "df_pred"
   ]
  },
  {
   "cell_type": "markdown",
   "id": "2aa7573b",
   "metadata": {},
   "source": [
    "## Hyperparameter tuning"
   ]
  },
  {
   "cell_type": "code",
   "execution_count": null,
   "id": "2a2d6348",
   "metadata": {},
   "outputs": [],
   "source": [
    "learning_rates = [0.0001, 0.001, 0.01]\n",
    "lambdas = [0.01, 0.1, 0.5]\n",
    "best_score = 0\n",
    "\n",
    "for lr in learning_rates:\n",
    "    for lam in lambdas:\n",
    "\n",
    "        # Initialize the embedding model and FewShotLearner\n",
    "        embed_model = Embeddings(model_name='all-MiniLM-L6-v2', verbose=False)\n",
    "        few_shot_learner = FewShotLearner(\n",
    "            support_set=support_set.copy(),\n",
    "            text_col=\"text\",\n",
    "            label_col=\"label\",\n",
    "            embedding_model=embed_model\n",
    "        )\n",
    "\n",
    "        # Fit the model and print the loss for debugging\n",
    "        few_shot_learner.fit(lam=lam, lr=lr, epochs=100, early_stop=10, verbose=False)\n",
    "\n",
    "        # Evaluate the model\n",
    "        _, new_score = few_shot_learner.predict(query_set.copy(), return_accuracy=True)\n",
    "        print(f\"LR: {lr}, Lambda: {lam}, Score: {new_score}\")\n",
    "\n",
    "        # Check if the new score is the best so far\n",
    "        if new_score > best_score:\n",
    "            best_score = new_score\n",
    "            best_lr = lr\n",
    "            best_lam = lam\n",
    "            best_model = few_shot_learner\n",
    "            print(f\"New best hps: LR: {best_lr}, Lambda: {best_lam}, with a score of {best_score}\")\n",
    "            \n",
    "print(f\"Best Hyperparameters: LR: {best_lr}, Lambda: {best_lam}, with Score = {best_score}\")"
   ]
  }
 ],
 "metadata": {
  "kernelspec": {
   "display_name": ".venv",
   "language": "python",
   "name": "python3"
  },
  "language_info": {
   "codemirror_mode": {
    "name": "ipython",
    "version": 3
   },
   "file_extension": ".py",
   "mimetype": "text/x-python",
   "name": "python",
   "nbconvert_exporter": "python",
   "pygments_lexer": "ipython3",
   "version": "3.11.11"
  }
 },
 "nbformat": 4,
 "nbformat_minor": 5
}
