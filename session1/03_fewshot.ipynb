{
 "cells": [
  {
   "cell_type": "markdown",
   "id": "f8bf47b6",
   "metadata": {},
   "source": [
    "# FewShotLearner class walkthrough\n",
    "\n",
    "This notebook demonstrates the use of the `FewShotX` package (version 0.1.2), available for download [here](https://github.com/RenatoVassallo/BSE-ForecastNLP/releases/download/0.1.2/fewshotx-0.1.2-py3-none-any.whl)."
   ]
  },
  {
   "cell_type": "code",
   "execution_count": null,
   "id": "4a24cf2c",
   "metadata": {},
   "outputs": [],
   "source": [
    "import pandas as pd\n",
    "\n",
    "# Creating a Toy Dataset\n",
    "support_data = {\n",
    "    'text': ['Cats are cute', 'Dogs are loyal', 'Birds are awesome',\n",
    "             'I love programming', 'I like coding', 'I am data scientist'],\n",
    "    'label': ['Pets', 'Pets', 'Pets',\n",
    "              'Code', 'Code', 'Code']\n",
    "}\n",
    "support_set = pd.DataFrame(support_data)\n",
    "support_set"
   ]
  },
  {
   "cell_type": "code",
   "execution_count": null,
   "id": "4894501c",
   "metadata": {},
   "outputs": [],
   "source": [
    "from FewShotX import Embeddings, FewShotLearner\n",
    "\n",
    "# Instantiate the Embeddings class\n",
    "embedding_model = Embeddings(model_name='all-MiniLM-L6-v2')\n",
    "\n",
    "# Instantiate the FewShotLearner class with the toy dataset\n",
    "learner = FewShotLearner(support_set, text_col='text', label_col='label', embedding_model=embedding_model)"
   ]
  },
  {
   "cell_type": "code",
   "execution_count": null,
   "id": "3b1e1b10",
   "metadata": {},
   "outputs": [],
   "source": [
    "# Prepare the training data using the _prepare_training_data method\n",
    "(X_train, y_train), (X_val, y_val), input_dim, output_dim = learner._prepare_training_data(val_split=0.2)\n",
    "print(\"X_train shape:\", X_train.shape)\n",
    "print(\"y_train shape:\", y_train.shape)"
   ]
  },
  {
   "cell_type": "markdown",
   "id": "5ae3b415",
   "metadata": {},
   "source": [
    "+ The shape of `X_tensor` is: 4 samples × 384-dimensional embeddings → (4, 384).\n",
    "+ The labels \"Pets\" and \"Code\" are also embedded using the same model.\n",
    "+ This 2 unique embeddings are then mapped to its respective example, resulting in a `y_tensor` of shape (4, 384)."
   ]
  },
  {
   "cell_type": "code",
   "execution_count": null,
   "id": "c35b3bc4",
   "metadata": {},
   "outputs": [],
   "source": [
    "learner._train_model((X_train, y_train), (X_val, y_val), input_dim, output_dim, lam=0.1, lr=0.1, \n",
    "                     epochs=20, early_stop=5, verbose=True)"
   ]
  },
  {
   "cell_type": "markdown",
   "id": "b821305c",
   "metadata": {},
   "source": [
    "If the validation loss does **not improve** for 5 consecutive epochs, the training process is `stopped early`."
   ]
  },
  {
   "cell_type": "code",
   "execution_count": null,
   "id": "3a98e61c",
   "metadata": {},
   "outputs": [],
   "source": [
    "query_data = {\n",
    "    'text': ['Parrots can talk and mimic sounds',\n",
    "             'Developing machine learning models is fascinating'],\n",
    "    'label': ['Pets', 'Code']\n",
    "}\n",
    "query_set = pd.DataFrame(query_data)\n",
    "query_set"
   ]
  },
  {
   "cell_type": "code",
   "execution_count": null,
   "id": "60428c8a",
   "metadata": {},
   "outputs": [],
   "source": [
    "# Compute predictions\n",
    "predictions, acc = learner.predict(query_set, k=3, return_accuracy=True)\n",
    "print(\"Accuracy: \", acc)\n",
    "predictions"
   ]
  }
 ],
 "metadata": {
  "kernelspec": {
   "display_name": ".venv",
   "language": "python",
   "name": "python3"
  },
  "language_info": {
   "codemirror_mode": {
    "name": "ipython",
    "version": 3
   },
   "file_extension": ".py",
   "mimetype": "text/x-python",
   "name": "python",
   "nbconvert_exporter": "python",
   "pygments_lexer": "ipython3",
   "version": "3.11.11"
  }
 },
 "nbformat": 4,
 "nbformat_minor": 5
}
