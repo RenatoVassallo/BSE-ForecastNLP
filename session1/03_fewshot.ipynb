{
 "cells": [
  {
   "cell_type": "markdown",
   "id": "f8bf47b6",
   "metadata": {},
   "source": [
    "# FewShotLearner class walkthrough"
   ]
  },
  {
   "cell_type": "code",
   "execution_count": 1,
   "id": "4a24cf2c",
   "metadata": {},
   "outputs": [
    {
     "data": {
      "text/html": [
       "<div>\n",
       "<style scoped>\n",
       "    .dataframe tbody tr th:only-of-type {\n",
       "        vertical-align: middle;\n",
       "    }\n",
       "\n",
       "    .dataframe tbody tr th {\n",
       "        vertical-align: top;\n",
       "    }\n",
       "\n",
       "    .dataframe thead th {\n",
       "        text-align: right;\n",
       "    }\n",
       "</style>\n",
       "<table border=\"1\" class=\"dataframe\">\n",
       "  <thead>\n",
       "    <tr style=\"text-align: right;\">\n",
       "      <th></th>\n",
       "      <th>text</th>\n",
       "      <th>label</th>\n",
       "    </tr>\n",
       "  </thead>\n",
       "  <tbody>\n",
       "    <tr>\n",
       "      <th>0</th>\n",
       "      <td>Cats are cute</td>\n",
       "      <td>Pets</td>\n",
       "    </tr>\n",
       "    <tr>\n",
       "      <th>1</th>\n",
       "      <td>Dogs are loyal</td>\n",
       "      <td>Pets</td>\n",
       "    </tr>\n",
       "    <tr>\n",
       "      <th>2</th>\n",
       "      <td>Birds are awesome</td>\n",
       "      <td>Pets</td>\n",
       "    </tr>\n",
       "    <tr>\n",
       "      <th>3</th>\n",
       "      <td>I love programming</td>\n",
       "      <td>Code</td>\n",
       "    </tr>\n",
       "    <tr>\n",
       "      <th>4</th>\n",
       "      <td>I like coding</td>\n",
       "      <td>Code</td>\n",
       "    </tr>\n",
       "    <tr>\n",
       "      <th>5</th>\n",
       "      <td>I am data scientist</td>\n",
       "      <td>Code</td>\n",
       "    </tr>\n",
       "  </tbody>\n",
       "</table>\n",
       "</div>"
      ],
      "text/plain": [
       "                  text label\n",
       "0        Cats are cute  Pets\n",
       "1       Dogs are loyal  Pets\n",
       "2    Birds are awesome  Pets\n",
       "3   I love programming  Code\n",
       "4        I like coding  Code\n",
       "5  I am data scientist  Code"
      ]
     },
     "execution_count": 1,
     "metadata": {},
     "output_type": "execute_result"
    }
   ],
   "source": [
    "import pandas as pd\n",
    "\n",
    "# Creating a Toy Dataset\n",
    "support_data = {\n",
    "    'text': ['Cats are cute', 'Dogs are loyal', 'Birds are awesome',\n",
    "             'I love programming', 'I like coding', 'I am data scientist'],\n",
    "    'label': ['Pets', 'Pets', 'Pets',\n",
    "              'Code', 'Code', 'Code']\n",
    "}\n",
    "support_set = pd.DataFrame(support_data)\n",
    "support_set"
   ]
  },
  {
   "cell_type": "code",
   "execution_count": 2,
   "id": "4894501c",
   "metadata": {},
   "outputs": [],
   "source": [
    "from FewShotX.embeddings.embed import Embeddings\n",
    "from FewShotX.scoring.fewshot import FewShotLearner\n",
    "\n",
    "# Instantiate the Embeddings class\n",
    "embedding_model = Embeddings(model_name='all-MiniLM-L6-v2')\n",
    "\n",
    "# Instantiate the FewShotLearner class with the toy dataset\n",
    "learner = FewShotLearner(support_set, text_col='text', label_col='label', embedding_model=embedding_model)"
   ]
  },
  {
   "cell_type": "code",
   "execution_count": 3,
   "id": "3b1e1b10",
   "metadata": {},
   "outputs": [
    {
     "data": {
      "application/vnd.jupyter.widget-view+json": {
       "model_id": "cdf8a8e31fc74ff6b6ccfdb6062afb01",
       "version_major": 2,
       "version_minor": 0
      },
      "text/plain": [
       "Batches:   0%|          | 0/1 [00:00<?, ?it/s]"
      ]
     },
     "metadata": {},
     "output_type": "display_data"
    },
    {
     "data": {
      "application/vnd.jupyter.widget-view+json": {
       "model_id": "950917f28bb64240ae6eec1e308fcbc3",
       "version_major": 2,
       "version_minor": 0
      },
      "text/plain": [
       "Batches:   0%|          | 0/1 [00:00<?, ?it/s]"
      ]
     },
     "metadata": {},
     "output_type": "display_data"
    },
    {
     "name": "stdout",
     "output_type": "stream",
     "text": [
      "X_train shape: torch.Size([4, 384])\n",
      "y_train shape: torch.Size([4, 384])\n"
     ]
    }
   ],
   "source": [
    "# Prepare the training data using the _prepare_training_data method\n",
    "(X_train, y_train), (X_val, y_val), input_dim, output_dim = learner._prepare_training_data(val_split=0.2)\n",
    "print(\"X_train shape:\", X_train.shape)\n",
    "print(\"y_train shape:\", y_train.shape)"
   ]
  },
  {
   "cell_type": "markdown",
   "id": "5ae3b415",
   "metadata": {},
   "source": [
    "+ The shape of `X_tensor` is: 4 samples × 384-dimensional embeddings → (4, 384).\n",
    "+ The labels \"Pets\" and \"Code\" are also embedded using the same model.\n",
    "+ This 2 unique embeddings are then mapped to its respective example, resulting in a `y_tensor` of shape (4, 384)."
   ]
  },
  {
   "cell_type": "code",
   "execution_count": 4,
   "id": "c35b3bc4",
   "metadata": {},
   "outputs": [
    {
     "name": "stdout",
     "output_type": "stream",
     "text": [
      "Epoch 1/20 - Training Loss: 0.0276 - Validation Loss: 0.4302\n",
      "Epoch 2/20 - Training Loss: 1.1491 - Validation Loss: 0.0895\n",
      "Epoch 3/20 - Training Loss: 0.1122 - Validation Loss: 0.1326\n",
      "Epoch 4/20 - Training Loss: 0.2852 - Validation Loss: 0.2582\n",
      "Epoch 5/20 - Training Loss: 0.6347 - Validation Loss: 0.2057\n",
      "Epoch 6/20 - Training Loss: 0.4643 - Validation Loss: 0.0893\n",
      "Epoch 7/20 - Training Loss: 0.1510 - Validation Loss: 0.0361\n",
      "Epoch 8/20 - Training Loss: 0.0440 - Validation Loss: 0.0645\n",
      "Epoch 9/20 - Training Loss: 0.1586 - Validation Loss: 0.1089\n",
      "Epoch 10/20 - Training Loss: 0.2799 - Validation Loss: 0.1115\n",
      "Epoch 11/20 - Training Loss: 0.2609 - Validation Loss: 0.0754\n",
      "Epoch 12/20 - Training Loss: 0.1477 - Validation Loss: 0.0366\n",
      "Early stopping at epoch 12\n"
     ]
    }
   ],
   "source": [
    "learner._train_model((X_train, y_train), (X_val, y_val), input_dim, output_dim, lam=0.1, lr=0.1, \n",
    "                     epochs=20, early_stop=5, verbose=True)"
   ]
  },
  {
   "cell_type": "markdown",
   "id": "b821305c",
   "metadata": {},
   "source": [
    "If the validation loss does **not improve** for 5 consecutive epochs, the training process is `stopped early`."
   ]
  },
  {
   "cell_type": "code",
   "execution_count": 5,
   "id": "3a98e61c",
   "metadata": {},
   "outputs": [
    {
     "data": {
      "text/html": [
       "<div>\n",
       "<style scoped>\n",
       "    .dataframe tbody tr th:only-of-type {\n",
       "        vertical-align: middle;\n",
       "    }\n",
       "\n",
       "    .dataframe tbody tr th {\n",
       "        vertical-align: top;\n",
       "    }\n",
       "\n",
       "    .dataframe thead th {\n",
       "        text-align: right;\n",
       "    }\n",
       "</style>\n",
       "<table border=\"1\" class=\"dataframe\">\n",
       "  <thead>\n",
       "    <tr style=\"text-align: right;\">\n",
       "      <th></th>\n",
       "      <th>text</th>\n",
       "      <th>label</th>\n",
       "    </tr>\n",
       "  </thead>\n",
       "  <tbody>\n",
       "    <tr>\n",
       "      <th>0</th>\n",
       "      <td>Parrots can talk and mimic sounds</td>\n",
       "      <td>Pets</td>\n",
       "    </tr>\n",
       "    <tr>\n",
       "      <th>1</th>\n",
       "      <td>Developing machine learning models is fascinating</td>\n",
       "      <td>Code</td>\n",
       "    </tr>\n",
       "  </tbody>\n",
       "</table>\n",
       "</div>"
      ],
      "text/plain": [
       "                                                text label\n",
       "0                  Parrots can talk and mimic sounds  Pets\n",
       "1  Developing machine learning models is fascinating  Code"
      ]
     },
     "execution_count": 5,
     "metadata": {},
     "output_type": "execute_result"
    }
   ],
   "source": [
    "query_data = {\n",
    "    'text': ['Parrots can talk and mimic sounds',\n",
    "             'Developing machine learning models is fascinating'],\n",
    "    'label': ['Pets', 'Code']\n",
    "}\n",
    "query_set = pd.DataFrame(query_data)\n",
    "query_set"
   ]
  },
  {
   "cell_type": "code",
   "execution_count": 6,
   "id": "60428c8a",
   "metadata": {},
   "outputs": [
    {
     "data": {
      "application/vnd.jupyter.widget-view+json": {
       "model_id": "a9c3ce27953c4a7895c350343454e4c8",
       "version_major": 2,
       "version_minor": 0
      },
      "text/plain": [
       "Batches:   0%|          | 0/1 [00:00<?, ?it/s]"
      ]
     },
     "metadata": {},
     "output_type": "display_data"
    },
    {
     "name": "stdout",
     "output_type": "stream",
     "text": [
      "Accuracy:  1.0\n"
     ]
    },
    {
     "data": {
      "text/html": [
       "<div>\n",
       "<style scoped>\n",
       "    .dataframe tbody tr th:only-of-type {\n",
       "        vertical-align: middle;\n",
       "    }\n",
       "\n",
       "    .dataframe tbody tr th {\n",
       "        vertical-align: top;\n",
       "    }\n",
       "\n",
       "    .dataframe thead th {\n",
       "        text-align: right;\n",
       "    }\n",
       "</style>\n",
       "<table border=\"1\" class=\"dataframe\">\n",
       "  <thead>\n",
       "    <tr style=\"text-align: right;\">\n",
       "      <th></th>\n",
       "      <th>text</th>\n",
       "      <th>label</th>\n",
       "      <th>pred</th>\n",
       "      <th>pred_label</th>\n",
       "      <th>true_label_idx</th>\n",
       "    </tr>\n",
       "  </thead>\n",
       "  <tbody>\n",
       "    <tr>\n",
       "      <th>0</th>\n",
       "      <td>Parrots can talk and mimic sounds</td>\n",
       "      <td>Pets</td>\n",
       "      <td>0</td>\n",
       "      <td>Pets</td>\n",
       "      <td>0</td>\n",
       "    </tr>\n",
       "    <tr>\n",
       "      <th>1</th>\n",
       "      <td>Developing machine learning models is fascinating</td>\n",
       "      <td>Code</td>\n",
       "      <td>1</td>\n",
       "      <td>Code</td>\n",
       "      <td>1</td>\n",
       "    </tr>\n",
       "  </tbody>\n",
       "</table>\n",
       "</div>"
      ],
      "text/plain": [
       "                                                text label  pred pred_label  \\\n",
       "0                  Parrots can talk and mimic sounds  Pets     0       Pets   \n",
       "1  Developing machine learning models is fascinating  Code     1       Code   \n",
       "\n",
       "   true_label_idx  \n",
       "0               0  \n",
       "1               1  "
      ]
     },
     "execution_count": 6,
     "metadata": {},
     "output_type": "execute_result"
    }
   ],
   "source": [
    "# Compute predictions\n",
    "predictions, acc = learner.predict(query_set, k=3, return_accuracy=True)\n",
    "print(\"Accuracy: \", acc)\n",
    "predictions"
   ]
  },
  {
   "cell_type": "markdown",
   "id": "7b6c6648",
   "metadata": {},
   "source": [
    "# Application to AG News"
   ]
  },
  {
   "cell_type": "code",
   "execution_count": 7,
   "id": "daf31635",
   "metadata": {},
   "outputs": [
    {
     "name": "stdout",
     "output_type": "stream",
     "text": [
      "label\n",
      "Sports      500\n",
      "World       500\n",
      "Sci/Tech    500\n",
      "Business    500\n",
      "Name: count, dtype: int64\n"
     ]
    },
    {
     "data": {
      "text/html": [
       "<div>\n",
       "<style scoped>\n",
       "    .dataframe tbody tr th:only-of-type {\n",
       "        vertical-align: middle;\n",
       "    }\n",
       "\n",
       "    .dataframe tbody tr th {\n",
       "        vertical-align: top;\n",
       "    }\n",
       "\n",
       "    .dataframe thead th {\n",
       "        text-align: right;\n",
       "    }\n",
       "</style>\n",
       "<table border=\"1\" class=\"dataframe\">\n",
       "  <thead>\n",
       "    <tr style=\"text-align: right;\">\n",
       "      <th></th>\n",
       "      <th>text</th>\n",
       "      <th>label</th>\n",
       "    </tr>\n",
       "  </thead>\n",
       "  <tbody>\n",
       "    <tr>\n",
       "      <th>0</th>\n",
       "      <td>Latest BCS a feel-good for Cal, upset stomach ...</td>\n",
       "      <td>Sports</td>\n",
       "    </tr>\n",
       "    <tr>\n",
       "      <th>1</th>\n",
       "      <td>Sindelar snaps slump with 66 at rainy Open Joe...</td>\n",
       "      <td>Sports</td>\n",
       "    </tr>\n",
       "    <tr>\n",
       "      <th>2</th>\n",
       "      <td>Seven killed in Karbala mosque explosion At le...</td>\n",
       "      <td>World</td>\n",
       "    </tr>\n",
       "    <tr>\n",
       "      <th>3</th>\n",
       "      <td>Building Dedicated to Space Shuttle Columbia A...</td>\n",
       "      <td>Sci/Tech</td>\n",
       "    </tr>\n",
       "    <tr>\n",
       "      <th>4</th>\n",
       "      <td>Guatemala to pay paramilitaries Guatemala's go...</td>\n",
       "      <td>World</td>\n",
       "    </tr>\n",
       "    <tr>\n",
       "      <th>...</th>\n",
       "      <td>...</td>\n",
       "      <td>...</td>\n",
       "    </tr>\n",
       "    <tr>\n",
       "      <th>1995</th>\n",
       "      <td>Dodgers Clobber Padres 9-6 (AP) AP - Cesar Izt...</td>\n",
       "      <td>Sports</td>\n",
       "    </tr>\n",
       "    <tr>\n",
       "      <th>1996</th>\n",
       "      <td>Digital photo album bypasses PCs SanDisk's med...</td>\n",
       "      <td>Sci/Tech</td>\n",
       "    </tr>\n",
       "    <tr>\n",
       "      <th>1997</th>\n",
       "      <td>Greek hero Charisteas the man for the big occa...</td>\n",
       "      <td>Sports</td>\n",
       "    </tr>\n",
       "    <tr>\n",
       "      <th>1998</th>\n",
       "      <td>FilePlanet Daily Download Marvel Sues NCSoft a...</td>\n",
       "      <td>Sci/Tech</td>\n",
       "    </tr>\n",
       "    <tr>\n",
       "      <th>1999</th>\n",
       "      <td>Nokia, Vodafone Partner on Mobile Service Arch...</td>\n",
       "      <td>Sci/Tech</td>\n",
       "    </tr>\n",
       "  </tbody>\n",
       "</table>\n",
       "<p>2000 rows × 2 columns</p>\n",
       "</div>"
      ],
      "text/plain": [
       "                                                   text     label\n",
       "0     Latest BCS a feel-good for Cal, upset stomach ...    Sports\n",
       "1     Sindelar snaps slump with 66 at rainy Open Joe...    Sports\n",
       "2     Seven killed in Karbala mosque explosion At le...     World\n",
       "3     Building Dedicated to Space Shuttle Columbia A...  Sci/Tech\n",
       "4     Guatemala to pay paramilitaries Guatemala's go...     World\n",
       "...                                                 ...       ...\n",
       "1995  Dodgers Clobber Padres 9-6 (AP) AP - Cesar Izt...    Sports\n",
       "1996  Digital photo album bypasses PCs SanDisk's med...  Sci/Tech\n",
       "1997  Greek hero Charisteas the man for the big occa...    Sports\n",
       "1998  FilePlanet Daily Download Marvel Sues NCSoft a...  Sci/Tech\n",
       "1999  Nokia, Vodafone Partner on Mobile Service Arch...  Sci/Tech\n",
       "\n",
       "[2000 rows x 2 columns]"
      ]
     },
     "execution_count": 7,
     "metadata": {},
     "output_type": "execute_result"
    }
   ],
   "source": [
    "# Load the Parquet file\n",
    "df = pd.read_parquet('datasets/agnews2k.parquet')\n",
    "print(df[\"label\"].value_counts())\n",
    "df"
   ]
  },
  {
   "cell_type": "code",
   "execution_count": 8,
   "id": "d1066d44",
   "metadata": {},
   "outputs": [],
   "source": [
    "def split_support_query(df, support_pct, random_state=42):\n",
    "    \"\"\"\n",
    "    Split the dataset into support and query sets based on a percentage.\n",
    "    \"\"\"\n",
    "    # Ensure percentage is within the valid range\n",
    "    if not (0 < support_pct < 1):\n",
    "        raise ValueError(\"support_pct must be a float between 0 and 1.\")\n",
    "    \n",
    "    # Split the dataset\n",
    "    support_set = df.sample(frac=support_pct, random_state=random_state)\n",
    "    query_set = df.drop(support_set.index)\n",
    "\n",
    "    return support_set, query_set"
   ]
  },
  {
   "cell_type": "code",
   "execution_count": 9,
   "id": "38281c59",
   "metadata": {},
   "outputs": [
    {
     "name": "stdout",
     "output_type": "stream",
     "text": [
      "Support Set: (500 rows):\n",
      "                                                   text     label\n",
      "1860  Falluja Rebels Had Enough Arms to Rule Iraq -U...     World\n",
      "353   Notables With a 9:15 p.m. curfew imposed becau...    Sports\n",
      "1333  Oil Prices Generate Winners and Losers With cr...     World\n",
      "905   Offshore drilling rig missing after Ivan An of...  Business\n",
      "1289  Top UN envoy details lack of progress in Darfu...     World\n",
      "\n",
      "Query Set: (1500 rows):\n",
      "                                                text     label\n",
      "0  Latest BCS a feel-good for Cal, upset stomach ...    Sports\n",
      "1  Sindelar snaps slump with 66 at rainy Open Joe...    Sports\n",
      "3  Building Dedicated to Space Shuttle Columbia A...  Sci/Tech\n",
      "4  Guatemala to pay paramilitaries Guatemala's go...     World\n",
      "5  Manning to Get First Start Vs. Panthers (AP) A...    Sports\n"
     ]
    }
   ],
   "source": [
    "support_set, query_set = split_support_query(df, support_pct=0.25, random_state=42)\n",
    "\n",
    "print(f\"Support Set: ({len(support_set)} rows):\")\n",
    "print(support_set.head())\n",
    "\n",
    "print(f\"\\nQuery Set: ({len(query_set)} rows):\")\n",
    "print(query_set.head())"
   ]
  },
  {
   "cell_type": "code",
   "execution_count": 10,
   "id": "8b8bb169",
   "metadata": {},
   "outputs": [],
   "source": [
    "from FewShotX.embeddings.embed import Embeddings\n",
    "from FewShotX.scoring.fewshot import FewShotLearner\n",
    "\n",
    "# Initialize Embedder\n",
    "embed_model = Embeddings(model_name='all-MiniLM-L6-v2', verbose=False)\n",
    "\n",
    "# Initialize the FewShotLearner\n",
    "few_shot_learner = FewShotLearner(\n",
    "    support_set=support_set.copy(),\n",
    "    text_col=\"text\",\n",
    "    label_col=\"label\",\n",
    "    embedding_model=embed_model\n",
    ")"
   ]
  },
  {
   "cell_type": "code",
   "execution_count": 11,
   "id": "8218ace6",
   "metadata": {},
   "outputs": [
    {
     "name": "stdout",
     "output_type": "stream",
     "text": [
      "Epoch 1/50 - Training Loss: 0.1621 - Validation Loss: 0.0069\n",
      "Epoch 2/50 - Training Loss: 0.1193 - Validation Loss: 0.0066\n",
      "Epoch 3/50 - Training Loss: 0.0903 - Validation Loss: 0.0044\n",
      "Epoch 4/50 - Training Loss: 0.0732 - Validation Loss: 0.0037\n",
      "Epoch 5/50 - Training Loss: 0.0647 - Validation Loss: 0.0034\n",
      "Epoch 6/50 - Training Loss: 0.0590 - Validation Loss: 0.0034\n",
      "Epoch 7/50 - Training Loss: 0.0612 - Validation Loss: 0.0034\n",
      "Epoch 8/50 - Training Loss: 0.0654 - Validation Loss: 0.0036\n",
      "Epoch 9/50 - Training Loss: 0.0657 - Validation Loss: 0.0035\n",
      "Epoch 10/50 - Training Loss: 0.0637 - Validation Loss: 0.0035\n",
      "Epoch 11/50 - Training Loss: 0.0690 - Validation Loss: 0.0037\n",
      "Epoch 12/50 - Training Loss: 0.0690 - Validation Loss: 0.0037\n",
      "Epoch 13/50 - Training Loss: 0.0703 - Validation Loss: 0.0038\n",
      "Epoch 14/50 - Training Loss: 0.0687 - Validation Loss: 0.0037\n",
      "Epoch 15/50 - Training Loss: 0.0698 - Validation Loss: 0.0038\n",
      "Epoch 16/50 - Training Loss: 0.0715 - Validation Loss: 0.0038\n",
      "Early stopping at epoch 16\n"
     ]
    }
   ],
   "source": [
    "# Train the model using the support set\n",
    "few_shot_learner.fit(lam=0.1, lr=0.05, epochs=50, early_stop=10, verbose=True)"
   ]
  },
  {
   "cell_type": "code",
   "execution_count": 12,
   "id": "c75766eb",
   "metadata": {},
   "outputs": [
    {
     "name": "stdout",
     "output_type": "stream",
     "text": [
      "Accuracy:  0.7206666666666667\n"
     ]
    },
    {
     "data": {
      "text/html": [
       "<div>\n",
       "<style scoped>\n",
       "    .dataframe tbody tr th:only-of-type {\n",
       "        vertical-align: middle;\n",
       "    }\n",
       "\n",
       "    .dataframe tbody tr th {\n",
       "        vertical-align: top;\n",
       "    }\n",
       "\n",
       "    .dataframe thead th {\n",
       "        text-align: right;\n",
       "    }\n",
       "</style>\n",
       "<table border=\"1\" class=\"dataframe\">\n",
       "  <thead>\n",
       "    <tr style=\"text-align: right;\">\n",
       "      <th></th>\n",
       "      <th>text</th>\n",
       "      <th>label</th>\n",
       "      <th>pred</th>\n",
       "      <th>pred_label</th>\n",
       "      <th>true_label_idx</th>\n",
       "    </tr>\n",
       "  </thead>\n",
       "  <tbody>\n",
       "    <tr>\n",
       "      <th>0</th>\n",
       "      <td>Latest BCS a feel-good for Cal, upset stomach ...</td>\n",
       "      <td>Sports</td>\n",
       "      <td>1</td>\n",
       "      <td>Sports</td>\n",
       "      <td>1</td>\n",
       "    </tr>\n",
       "    <tr>\n",
       "      <th>1</th>\n",
       "      <td>Sindelar snaps slump with 66 at rainy Open Joe...</td>\n",
       "      <td>Sports</td>\n",
       "      <td>1</td>\n",
       "      <td>Sports</td>\n",
       "      <td>1</td>\n",
       "    </tr>\n",
       "    <tr>\n",
       "      <th>3</th>\n",
       "      <td>Building Dedicated to Space Shuttle Columbia A...</td>\n",
       "      <td>Sci/Tech</td>\n",
       "      <td>2</td>\n",
       "      <td>Business</td>\n",
       "      <td>3</td>\n",
       "    </tr>\n",
       "    <tr>\n",
       "      <th>4</th>\n",
       "      <td>Guatemala to pay paramilitaries Guatemala's go...</td>\n",
       "      <td>World</td>\n",
       "      <td>2</td>\n",
       "      <td>Business</td>\n",
       "      <td>0</td>\n",
       "    </tr>\n",
       "    <tr>\n",
       "      <th>5</th>\n",
       "      <td>Manning to Get First Start Vs. Panthers (AP) A...</td>\n",
       "      <td>Sports</td>\n",
       "      <td>1</td>\n",
       "      <td>Sports</td>\n",
       "      <td>1</td>\n",
       "    </tr>\n",
       "    <tr>\n",
       "      <th>...</th>\n",
       "      <td>...</td>\n",
       "      <td>...</td>\n",
       "      <td>...</td>\n",
       "      <td>...</td>\n",
       "      <td>...</td>\n",
       "    </tr>\n",
       "    <tr>\n",
       "      <th>1994</th>\n",
       "      <td>Nuggets 93, Rockets 88 DerMarr Johnson scored ...</td>\n",
       "      <td>Sports</td>\n",
       "      <td>1</td>\n",
       "      <td>Sports</td>\n",
       "      <td>1</td>\n",
       "    </tr>\n",
       "    <tr>\n",
       "      <th>1995</th>\n",
       "      <td>Dodgers Clobber Padres 9-6 (AP) AP - Cesar Izt...</td>\n",
       "      <td>Sports</td>\n",
       "      <td>2</td>\n",
       "      <td>Business</td>\n",
       "      <td>1</td>\n",
       "    </tr>\n",
       "    <tr>\n",
       "      <th>1996</th>\n",
       "      <td>Digital photo album bypasses PCs SanDisk's med...</td>\n",
       "      <td>Sci/Tech</td>\n",
       "      <td>3</td>\n",
       "      <td>Sci/Tech</td>\n",
       "      <td>3</td>\n",
       "    </tr>\n",
       "    <tr>\n",
       "      <th>1997</th>\n",
       "      <td>Greek hero Charisteas the man for the big occa...</td>\n",
       "      <td>Sports</td>\n",
       "      <td>1</td>\n",
       "      <td>Sports</td>\n",
       "      <td>1</td>\n",
       "    </tr>\n",
       "    <tr>\n",
       "      <th>1999</th>\n",
       "      <td>Nokia, Vodafone Partner on Mobile Service Arch...</td>\n",
       "      <td>Sci/Tech</td>\n",
       "      <td>3</td>\n",
       "      <td>Sci/Tech</td>\n",
       "      <td>3</td>\n",
       "    </tr>\n",
       "  </tbody>\n",
       "</table>\n",
       "<p>1500 rows × 5 columns</p>\n",
       "</div>"
      ],
      "text/plain": [
       "                                                   text     label  pred  \\\n",
       "0     Latest BCS a feel-good for Cal, upset stomach ...    Sports     1   \n",
       "1     Sindelar snaps slump with 66 at rainy Open Joe...    Sports     1   \n",
       "3     Building Dedicated to Space Shuttle Columbia A...  Sci/Tech     2   \n",
       "4     Guatemala to pay paramilitaries Guatemala's go...     World     2   \n",
       "5     Manning to Get First Start Vs. Panthers (AP) A...    Sports     1   \n",
       "...                                                 ...       ...   ...   \n",
       "1994  Nuggets 93, Rockets 88 DerMarr Johnson scored ...    Sports     1   \n",
       "1995  Dodgers Clobber Padres 9-6 (AP) AP - Cesar Izt...    Sports     2   \n",
       "1996  Digital photo album bypasses PCs SanDisk's med...  Sci/Tech     3   \n",
       "1997  Greek hero Charisteas the man for the big occa...    Sports     1   \n",
       "1999  Nokia, Vodafone Partner on Mobile Service Arch...  Sci/Tech     3   \n",
       "\n",
       "     pred_label  true_label_idx  \n",
       "0        Sports               1  \n",
       "1        Sports               1  \n",
       "3      Business               3  \n",
       "4      Business               0  \n",
       "5        Sports               1  \n",
       "...         ...             ...  \n",
       "1994     Sports               1  \n",
       "1995   Business               1  \n",
       "1996   Sci/Tech               3  \n",
       "1997     Sports               1  \n",
       "1999   Sci/Tech               3  \n",
       "\n",
       "[1500 rows x 5 columns]"
      ]
     },
     "execution_count": 12,
     "metadata": {},
     "output_type": "execute_result"
    }
   ],
   "source": [
    "# Make predictions on the query set\n",
    "df_pred, acc = few_shot_learner.predict(query_set.copy(), return_accuracy=True)\n",
    "print(\"Accuracy: \", acc)\n",
    "df_pred"
   ]
  },
  {
   "cell_type": "markdown",
   "id": "2aa7573b",
   "metadata": {},
   "source": [
    "## Hyperparameter tuning"
   ]
  },
  {
   "cell_type": "code",
   "execution_count": null,
   "id": "2a2d6348",
   "metadata": {},
   "outputs": [
    {
     "name": "stdout",
     "output_type": "stream",
     "text": [
      "LR: 0.0001, Lambda: 0.01, Score: 0.866\n",
      "New best hps: LR: 0.0001, Lambda: 0.01, with a score of 0.866\n",
      "LR: 0.0001, Lambda: 0.1, Score: 0.8666666666666667\n",
      "New best hps: LR: 0.0001, Lambda: 0.1, with a score of 0.8666666666666667\n",
      "LR: 0.0001, Lambda: 0.5, Score: 0.8606666666666667\n",
      "LR: 0.001, Lambda: 0.01, Score: 0.86\n",
      "LR: 0.001, Lambda: 0.1, Score: 0.8633333333333333\n",
      "LR: 0.001, Lambda: 0.5, Score: 0.8666666666666667\n",
      "LR: 0.01, Lambda: 0.01, Score: 0.822\n",
      "LR: 0.01, Lambda: 0.1, Score: 0.8533333333333334\n",
      "LR: 0.01, Lambda: 0.5, Score: 0.854\n",
      "Best Hyperparameters: LR: 0.0001, Lambda: 0.1, with Score = 0.8666666666666667\n"
     ]
    }
   ],
   "source": [
    "learning_rates = [0.0001, 0.001, 0.01]\n",
    "lambdas = [0.01, 0.1, 0.5]\n",
    "best_score = 0\n",
    "\n",
    "for lr in learning_rates:\n",
    "    for lam in lambdas:\n",
    "\n",
    "        # Initialize the embedding model and FewShotLearner\n",
    "        embed_model = Embeddings(model_name='all-MiniLM-L6-v2', verbose=False)\n",
    "        few_shot_learner = FewShotLearner(\n",
    "            support_set=support_set.copy(),\n",
    "            text_col=\"text\",\n",
    "            label_col=\"label\",\n",
    "            embedding_model=embed_model\n",
    "        )\n",
    "\n",
    "        # Fit the model and print the loss for debugging\n",
    "        few_shot_learner.fit(lam=lam, lr=lr, epochs=100, early_stop=10, verbose=False)\n",
    "\n",
    "        # Evaluate the model\n",
    "        _, new_score = few_shot_learner.predict(query_set.copy(), return_accuracy=True)\n",
    "        print(f\"LR: {lr}, Lambda: {lam}, Score: {new_score}\")\n",
    "\n",
    "        # Check if the new score is the best so far\n",
    "        if new_score > best_score:\n",
    "            best_score = new_score\n",
    "            best_lr = lr\n",
    "            best_lam = lam\n",
    "            best_model = few_shot_learner\n",
    "            print(f\"New best hps: LR: {best_lr}, Lambda: {best_lam}, with a score of {best_score}\")\n",
    "            \n",
    "print(f\"Best Hyperparameters: LR: {best_lr}, Lambda: {best_lam}, with Score = {best_score}\")"
   ]
  }
 ],
 "metadata": {
  "kernelspec": {
   "display_name": ".venv",
   "language": "python",
   "name": "python3"
  },
  "language_info": {
   "codemirror_mode": {
    "name": "ipython",
    "version": 3
   },
   "file_extension": ".py",
   "mimetype": "text/x-python",
   "name": "python",
   "nbconvert_exporter": "python",
   "pygments_lexer": "ipython3",
   "version": "3.11.11"
  }
 },
 "nbformat": 4,
 "nbformat_minor": 5
}
